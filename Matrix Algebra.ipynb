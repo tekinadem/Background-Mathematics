{
 "cells": [
  {
   "cell_type": "markdown",
   "metadata": {},
   "source": [
    "$$Matrix Algebra$$"
   ]
  },
  {
   "cell_type": "markdown",
   "metadata": {},
   "source": [
    "*This section serves to provide a background for the matrix algebra required in PCA. Specifically I will be looking at eigenvectors and eigenvalues of a given matrix.*"
   ]
  },
  {
   "cell_type": "markdown",
   "metadata": {},
   "source": [
    "### Eigenvalues & Eigenvectors "
   ]
  },
  {
   "cell_type": "markdown",
   "metadata": {},
   "source": [
    "*As you know, you can multiply two matrices together, provided they are compatible\n",
    "sizes. Eigenvectors are a special case of this. Consider the two multiplications between\n",
    "a matrix and a vector*"
   ]
  },
  {
   "cell_type": "markdown",
   "metadata": {},
   "source": [
    "*Let define a n-by-n matrix A and a non-zero vector x. If there exists a scalar value λ which satisfies the vector equation:*"
   ]
  },
  {
   "cell_type": "markdown",
   "metadata": {},
   "source": [
    "$$\\displaystyle A\\vec{x}=\\lambda\\vec{x}$$"
   ]
  },
  {
   "cell_type": "markdown",
   "metadata": {},
   "source": [
    "*We define λ as an eigenvalue of the matrix A, and the corresponding non-zero vector x is called an eigenvector of the matrix A. To determine eigenvalues and eigenvectors a characteristic equation:*"
   ]
  },
  {
   "cell_type": "markdown",
   "metadata": {},
   "source": [
    "$$det\\left(A-\\lambda I\\right)=0$$"
   ]
  },
  {
   "cell_type": "markdown",
   "metadata": {},
   "source": [
    "*Here is an example of determining eigenvectors and eigenvalues where the matrix A is given by*"
   ]
  },
  {
   "cell_type": "markdown",
   "metadata": {},
   "source": [
    "$$\\displaystyle A=\\left[\\begin{matrix}-5 & 2\\\\ 2 & -2 \\end{matrix}\\right]$$"
   ]
  },
  {
   "cell_type": "markdown",
   "metadata": {},
   "source": [
    "*Then the characteristic equation is given by*"
   ]
  },
  {
   "cell_type": "markdown",
   "metadata": {},
   "source": [
    "$$\\displaystyle D(\\lambda)=\\left(-5-\\lambda\\right)\\left(-2-\\lambda\\right)-4=\\lambda^{2}+7\\lambda+6=0$$"
   ]
  },
  {
   "cell_type": "markdown",
   "metadata": {},
   "source": [
    "*By solving the quadratic equation for λ, we will have two eigenvalues **λ1 = − 1** and **λ2 = − 6**. By substituting λ's into the vector equation, we can obtain corresponding **eigenvectors**;*"
   ]
  },
  {
   "cell_type": "markdown",
   "metadata": {},
   "source": [
    "$$\\displaystyle \\lambda_{1}:\\begin{cases} -4x_{1}+2x_{2} & =0\\\\ 2x_{1}-x_{2} & =0 \\end{cases}  \\Rightarrow\\vec{x}_{1}=\\left[\\begin{matrix}1\\\\ 2 \\end{matrix}\\right]$$\n",
    "$$\\displaystyle \\lambda_{2}:\\begin{cases} x_{1}+2x_{2} & =0\\\\ 2x_{1}+4x_{2} & =0 \\end{cases}  \\Rightarrow\\vec{x}_{2}=\\left[\\begin{matrix}2\\\\ -1 \\end{matrix}\\right]$$"
   ]
  }
 ],
 "metadata": {
  "kernelspec": {
   "display_name": "Python 3",
   "language": "python",
   "name": "python3"
  },
  "language_info": {
   "codemirror_mode": {
    "name": "ipython",
    "version": 3
   },
   "file_extension": ".py",
   "mimetype": "text/x-python",
   "name": "python",
   "nbconvert_exporter": "python",
   "pygments_lexer": "ipython3",
   "version": "3.7.4"
  }
 },
 "nbformat": 4,
 "nbformat_minor": 4
}
